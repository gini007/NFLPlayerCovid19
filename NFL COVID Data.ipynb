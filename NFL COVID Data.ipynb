{
 "cells": [
  {
   "cell_type": "markdown",
   "metadata": {},
   "source": [
    "# NFL Player COVID Data\n",
    "The below pulls injury report data from 2017 - 2020 from Pro Football Reference (https://www.pro-football-reference.com/). The final data will be used for a visualization of COVID-19 cases during the 2020 season. "
   ]
  },
  {
   "cell_type": "code",
   "execution_count": 1,
   "metadata": {
    "ExecuteTime": {
     "end_time": "2021-01-05T01:41:06.049465Z",
     "start_time": "2021-01-05T01:41:05.392404Z"
    }
   },
   "outputs": [],
   "source": [
    "import pandas as pd"
   ]
  },
  {
   "cell_type": "code",
   "execution_count": 4,
   "metadata": {
    "ExecuteTime": {
     "end_time": "2021-01-05T01:42:19.067469Z",
     "start_time": "2021-01-05T01:41:45.179456Z"
    }
   },
   "outputs": [],
   "source": [
    "# dictionary per data structure on pro football reference\n",
    "teams = {'crd':'Arizona Cardinals',\n",
    "         'atl':'Atlanta Falcons',\n",
    "         'rav':'Baltimore Ravens',\n",
    "         'buf':'Buffalo Bills',\n",
    "         'car':'Carolina Panthers',\n",
    "         'chi':'Chicago Bears',\n",
    "         'cin':'Cincinnati Bengals',\n",
    "         'cle':'Cleveland Browns',\n",
    "         'dal':'Dallas Cowboys',\n",
    "         'den':'Denver Broncos',\n",
    "         'det':'Detroit Lions',\n",
    "         'gnb':'Green Bay Packers',\n",
    "         'htx':'Houston Texans',\n",
    "         'clt':'Indianapolis Colts',\n",
    "         'jax':'Jaxonville Jaguars',\n",
    "         'kan':'Kansas City Chiefs',\n",
    "         'rai':'Las Vegas Raiders',\n",
    "         'sdg':'San Diego Chargers',\n",
    "         'ram':'Los Angeles Rams',\n",
    "         'mia':'Miami Dolphis',\n",
    "         'min':'Minnesota Vikings',\n",
    "         'nwe':'New England Patriots',\n",
    "         'nor':'New Orleans Saints',\n",
    "         'nyg':'New York Giants',\n",
    "         'nyj':'New York Jets',\n",
    "         'phi':'Philadelphia Eagles',\n",
    "         'pit':'Pittsburgh Steelers',\n",
    "         'sfo':'San Francisco 49ers',\n",
    "         'sea':'Seattle Seahawks',\n",
    "         'tam':'Tampa Bay Buccaneers',\n",
    "         'oti':'Tennessee Titans',\n",
    "         'was':'Washington Football Team'}\n",
    "# seasons to pull data from\n",
    "years = [2017, 2018, 2019, 2020]\n",
    "\n",
    "final = pd.DataFrame()\n",
    "for year in years: \n",
    "    for team in teams: \n",
    "        url = f'https://www.pro-football-reference.com/teams/{team}/{year}_injuries.htm'\n",
    "        df = pd.read_html(url)[0]\n",
    "        # unpivoting table to put date and opponent in rows\n",
    "        df_melt = pd.melt(df, id_vars=['Player'], value_vars=df.columns[1:]).rename(columns={'value': 'Status'})\n",
    "        # splitting date and opponent\n",
    "        df_melt['Opponent'] = df_melt['variable'].str.split(pat='vs. ', expand=True)[1]\n",
    "        df_melt['Opponent Name'] = df_melt['Opponent'].str.lower().apply(lambda x: teams.get(x))\n",
    "        df_melt['Date'] = df_melt['variable'].str.split(pat='vs. ', expand=True)[0]\n",
    "        # adding a year to the date (incrementing +1 year for any games in Jan / Feb) \n",
    "        df_melt['Year'] = df_melt['Date'].apply(lambda x: year+1 if int(x.split('/')[0]) <= 8 else year)\n",
    "        df_melt['Date'] = df_melt['Date'] + '/' + df_melt['Year'].astype(str)\n",
    "        # adding team column\n",
    "        df_melt['Team Name'] = teams.get(team)\n",
    "        # adding column for year\n",
    "        final = final.append(df_melt[['Team Name','Date','Year','Opponent','Opponent Name','Player','Status']], \n",
    "                             ignore_index=True)"
   ]
  },
  {
   "cell_type": "code",
   "execution_count": 8,
   "metadata": {
    "ExecuteTime": {
     "end_time": "2021-01-05T02:01:54.881847Z",
     "start_time": "2021-01-05T02:01:54.841671Z"
    }
   },
   "outputs": [],
   "source": [
    "# cleaning up team codes not covered by teams dict above\n",
    "clean_dict = {\n",
    "    'LAR': 'Los Angeles Rams', \n",
    "    'LVR': 'Las Vegas Raiders', \n",
    "    'LAC': 'Los Angeles Chargers', \n",
    "    'HOU': 'Houston Texans', \n",
    "    'IND': 'Indianapolis Colts', \n",
    "    'TEN': 'Tennessee Titans', \n",
    "    'ARI': 'Arizona Cardinals', \n",
    "    'BAL': 'Baltimore Ravens',\n",
    "    'OAK': 'Oakland Raiders'\n",
    "}\n",
    "final.loc[final['Opponent Name'].isnull(), 'Opponent Name'] = final['Opponent'].apply(lambda x: clean_dict.get(x))\n",
    "final = final[~final['Status'].isna()]"
   ]
  },
  {
   "cell_type": "code",
   "execution_count": 9,
   "metadata": {
    "ExecuteTime": {
     "end_time": "2021-01-05T02:01:56.782243Z",
     "start_time": "2021-01-05T02:01:56.766816Z"
    }
   },
   "outputs": [
    {
     "data": {
      "text/html": [
       "<div>\n",
       "<style scoped>\n",
       "    .dataframe tbody tr th:only-of-type {\n",
       "        vertical-align: middle;\n",
       "    }\n",
       "\n",
       "    .dataframe tbody tr th {\n",
       "        vertical-align: top;\n",
       "    }\n",
       "\n",
       "    .dataframe thead th {\n",
       "        text-align: right;\n",
       "    }\n",
       "</style>\n",
       "<table border=\"1\" class=\"dataframe\">\n",
       "  <thead>\n",
       "    <tr style=\"text-align: right;\">\n",
       "      <th></th>\n",
       "      <th>Team Name</th>\n",
       "      <th>Date</th>\n",
       "      <th>Year</th>\n",
       "      <th>Opponent</th>\n",
       "      <th>Opponent Name</th>\n",
       "      <th>Player</th>\n",
       "      <th>Status</th>\n",
       "    </tr>\n",
       "  </thead>\n",
       "  <tbody>\n",
       "    <tr>\n",
       "      <th>5</th>\n",
       "      <td>Arizona Cardinals</td>\n",
       "      <td>09/10/2017</td>\n",
       "      <td>2017</td>\n",
       "      <td>DET</td>\n",
       "      <td>Detroit Lions</td>\n",
       "      <td>Deone Bucannon</td>\n",
       "      <td>O</td>\n",
       "    </tr>\n",
       "    <tr>\n",
       "      <th>8</th>\n",
       "      <td>Arizona Cardinals</td>\n",
       "      <td>09/10/2017</td>\n",
       "      <td>2017</td>\n",
       "      <td>DET</td>\n",
       "      <td>Detroit Lions</td>\n",
       "      <td>Aaron Dobson</td>\n",
       "      <td>IR</td>\n",
       "    </tr>\n",
       "    <tr>\n",
       "      <th>11</th>\n",
       "      <td>Arizona Cardinals</td>\n",
       "      <td>09/10/2017</td>\n",
       "      <td>2017</td>\n",
       "      <td>DET</td>\n",
       "      <td>Detroit Lions</td>\n",
       "      <td>Alani Fua</td>\n",
       "      <td>IR</td>\n",
       "    </tr>\n",
       "    <tr>\n",
       "      <th>16</th>\n",
       "      <td>Arizona Cardinals</td>\n",
       "      <td>09/10/2017</td>\n",
       "      <td>2017</td>\n",
       "      <td>DET</td>\n",
       "      <td>Detroit Lions</td>\n",
       "      <td>Mike Iupati</td>\n",
       "      <td>Q</td>\n",
       "    </tr>\n",
       "    <tr>\n",
       "      <th>18</th>\n",
       "      <td>Arizona Cardinals</td>\n",
       "      <td>09/10/2017</td>\n",
       "      <td>2017</td>\n",
       "      <td>DET</td>\n",
       "      <td>Detroit Lions</td>\n",
       "      <td>Jarvis Jones</td>\n",
       "      <td>IR</td>\n",
       "    </tr>\n",
       "  </tbody>\n",
       "</table>\n",
       "</div>"
      ],
      "text/plain": [
       "            Team Name        Date  Year Opponent  Opponent Name  \\\n",
       "5   Arizona Cardinals  09/10/2017  2017      DET  Detroit Lions   \n",
       "8   Arizona Cardinals  09/10/2017  2017      DET  Detroit Lions   \n",
       "11  Arizona Cardinals  09/10/2017  2017      DET  Detroit Lions   \n",
       "16  Arizona Cardinals  09/10/2017  2017      DET  Detroit Lions   \n",
       "18  Arizona Cardinals  09/10/2017  2017      DET  Detroit Lions   \n",
       "\n",
       "            Player Status  \n",
       "5   Deone Bucannon      O  \n",
       "8     Aaron Dobson     IR  \n",
       "11       Alani Fua     IR  \n",
       "16     Mike Iupati      Q  \n",
       "18    Jarvis Jones     IR  "
      ]
     },
     "execution_count": 9,
     "metadata": {},
     "output_type": "execute_result"
    }
   ],
   "source": [
    "final.head()"
   ]
  },
  {
   "cell_type": "code",
   "execution_count": 10,
   "metadata": {
    "ExecuteTime": {
     "end_time": "2021-01-05T02:02:00.055875Z",
     "start_time": "2021-01-05T02:01:59.933927Z"
    }
   },
   "outputs": [],
   "source": [
    "final.to_csv('nfl_injury_reports_2017_2020.csv')"
   ]
  }
 ],
 "metadata": {
  "kernelspec": {
   "display_name": "Python [conda env:main] *",
   "language": "python",
   "name": "conda-env-main-py"
  },
  "language_info": {
   "codemirror_mode": {
    "name": "ipython",
    "version": 3
   },
   "file_extension": ".py",
   "mimetype": "text/x-python",
   "name": "python",
   "nbconvert_exporter": "python",
   "pygments_lexer": "ipython3",
   "version": "3.6.12"
  }
 },
 "nbformat": 4,
 "nbformat_minor": 4
}
